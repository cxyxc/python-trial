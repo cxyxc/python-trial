{
 "cells": [
  {
   "cell_type": "code",
   "execution_count": 4,
   "metadata": {},
   "outputs": [],
   "source": [
    "## 问题\n",
    "    * 我们没有数据\n",
    "    * 我们不知道哪些特征会影响人找工作，权重如何\n",
    "    * 人最终面试、上岗受到很多因素影响。如【有其他更优质工作机会、突发事件】等。这些不应该作为【匹配失败】的数据。那么什么样的数据应该作为失败数据呢？上岗成功的一定算是匹配成功，但不匹配的数据仍需要由逻辑得出\n",
    "\n",
    "## 解题思路\n",
    "    ### 特征选取\n",
    "        * 根据现实情况选择部分显著特征，每种特征根据情况折算得分，得分高于 80 的认为最终可以上岗成功（这里把特征总结成枚举项，便于随机生成）\n",
    "        * 特征之间可能相互影响，如家庭背景影响薪资权重，婚姻状况影响上班耗时权重（暂不考虑）\n",
    "        * 后续补充权重计算【可能应该折算成薪资后的数额进行】\n",
    "    ### 数据来源\n",
    "        * 不依赖外部数据，由现有逻辑生成随机数据源\n",
    "        * 数据源足够大时(约为 2000 条即可)，可让 AI 掌握由人类总结的逻辑\n",
    "        * 此时输出结果应与现有逻辑匹配保持一致\n",
    "    ### 后续业务数据集成\n",
    "        * 最终上岗的业务数据可以直接与生成的随机数据源混合【暂定30%的数据采用真实业务数据】，训练后查看结果，如果仍获得较高拟合度，则认为我们总结的特征及权重符合实际。如果发现拟合度较低，分析原因\n",
    "        * 后续持续更换特征，迭代找出更合适的模型\n",
    "        * 着重分析最终上岗数据中的较低分值的数据，发掘其中隐藏的特征\n"
   ]
  },
  {
   "cell_type": "code",
   "execution_count": 5,
   "metadata": {},
   "outputs": [
    {
     "output_type": "execute_result",
     "data": {
      "text/plain": [
       "      job_categories  insurance  benefits  go_work_time  score\n",
       "0                  2          3         0             2      1\n",
       "1                  0          0         3             0      0\n",
       "2                  0          1         2             1      0\n",
       "3                  1          0         3             1      0\n",
       "4                  0          0         2             0      0\n",
       "...              ...        ...       ...           ...    ...\n",
       "1995               1          3         1             1      0\n",
       "1996               0          3         2             0      0\n",
       "1997               2          1         2             1      1\n",
       "1998               1          1         2             3      1\n",
       "1999               1          1         2             2      1\n",
       "\n",
       "[2000 rows x 5 columns]"
      ],
      "text/html": "<div>\n<style scoped>\n    .dataframe tbody tr th:only-of-type {\n        vertical-align: middle;\n    }\n\n    .dataframe tbody tr th {\n        vertical-align: top;\n    }\n\n    .dataframe thead th {\n        text-align: right;\n    }\n</style>\n<table border=\"1\" class=\"dataframe\">\n  <thead>\n    <tr style=\"text-align: right;\">\n      <th></th>\n      <th>job_categories</th>\n      <th>insurance</th>\n      <th>benefits</th>\n      <th>go_work_time</th>\n      <th>score</th>\n    </tr>\n  </thead>\n  <tbody>\n    <tr>\n      <th>0</th>\n      <td>2</td>\n      <td>3</td>\n      <td>0</td>\n      <td>2</td>\n      <td>1</td>\n    </tr>\n    <tr>\n      <th>1</th>\n      <td>0</td>\n      <td>0</td>\n      <td>3</td>\n      <td>0</td>\n      <td>0</td>\n    </tr>\n    <tr>\n      <th>2</th>\n      <td>0</td>\n      <td>1</td>\n      <td>2</td>\n      <td>1</td>\n      <td>0</td>\n    </tr>\n    <tr>\n      <th>3</th>\n      <td>1</td>\n      <td>0</td>\n      <td>3</td>\n      <td>1</td>\n      <td>0</td>\n    </tr>\n    <tr>\n      <th>4</th>\n      <td>0</td>\n      <td>0</td>\n      <td>2</td>\n      <td>0</td>\n      <td>0</td>\n    </tr>\n    <tr>\n      <th>...</th>\n      <td>...</td>\n      <td>...</td>\n      <td>...</td>\n      <td>...</td>\n      <td>...</td>\n    </tr>\n    <tr>\n      <th>1995</th>\n      <td>1</td>\n      <td>3</td>\n      <td>1</td>\n      <td>1</td>\n      <td>0</td>\n    </tr>\n    <tr>\n      <th>1996</th>\n      <td>0</td>\n      <td>3</td>\n      <td>2</td>\n      <td>0</td>\n      <td>0</td>\n    </tr>\n    <tr>\n      <th>1997</th>\n      <td>2</td>\n      <td>1</td>\n      <td>2</td>\n      <td>1</td>\n      <td>1</td>\n    </tr>\n    <tr>\n      <th>1998</th>\n      <td>1</td>\n      <td>1</td>\n      <td>2</td>\n      <td>3</td>\n      <td>1</td>\n    </tr>\n    <tr>\n      <th>1999</th>\n      <td>1</td>\n      <td>1</td>\n      <td>2</td>\n      <td>2</td>\n      <td>1</td>\n    </tr>\n  </tbody>\n</table>\n<p>2000 rows × 5 columns</p>\n</div>"
     },
     "metadata": {},
     "execution_count": 5
    }
   ],
   "source": [
    "import numpy as np\n",
    "import pandas as pd\n",
    "\n",
    "# 按照以下逻辑生成数据作为基础数据，表达逻辑匹配推荐算法\n",
    "SIZE = 2000\n",
    "# 基准逻辑算法\n",
    "dict_raws_base = {\n",
    "    # 职位类别 \n",
    "    # 0 非常不满意\n",
    "    # 1 不满意\n",
    "    # 2 满意\n",
    "    'job_categories': {\n",
    "        'high': 3,\n",
    "        'score': [0, 50, 100],\n",
    "    },\n",
    "    # 缴金\n",
    "    # 0 公司缴纳+用户在乎\n",
    "    # 1 公司缴纳+用户不在乎\n",
    "    # 2 公司缴纳+用户在乎\n",
    "    # 3 公司不缴纳+用户不在乎\n",
    "    'insurance': {\n",
    "        'high': 4,\n",
    "        'score': [0, 50, 100, 100],\n",
    "    },\n",
    "    # 薪资+福利(包吃住等)\n",
    "    # 0 薪资低于预期+无福利\n",
    "    # 1 薪资低于预期+有福利\n",
    "    # 2 薪资达到预期+无福利\n",
    "    # 3 薪资达到预期+有福利\n",
    "    'benefits': {\n",
    "        'high': 4,\n",
    "        'score': [0, 60, 80, 100],\n",
    "    },\n",
    "    # 上班耗时\n",
    "    # 0 超过2小时\n",
    "    # 1 超过1小时\n",
    "    # 2 40分钟以内\n",
    "    # 3 20分钟以内\n",
    "    'go_work_time': {\n",
    "        'high': 4,\n",
    "        'score': [0, 20, 80, 100],\n",
    "    },\n",
    "}\n",
    "\n",
    "def get_df(dict_raws):\n",
    "    df_raws = {}\n",
    "    for key in dict_raws:\n",
    "        df_raws[key] = np.random.randint(dict_raws[key]['high'], size=(SIZE))\n",
    "    columns = dict_raws.keys()\n",
    "    df=pd.DataFrame(df_raws, columns=columns)\n",
    "\n",
    "    def get_sum_score(d):\n",
    "        # 得分 0 总分 < 60 不考虑\n",
    "        # 得分 1 总分 60 ~ 80 可以考虑\n",
    "        # 得分 2 总分 > 80 有较强上岗可能性\n",
    "        score = 0\n",
    "        count = 0\n",
    "        for key in columns:\n",
    "            score = dict_raws[key]['score'][d[key]]\n",
    "            # 暂时不设置权重，认为各特征权重相等 weight = dict_raws[key]['weight']\n",
    "            count += (score / len(columns))\n",
    "        if count < 60:\n",
    "            score = 0\n",
    "        if count >= 60 and count < 80:\n",
    "            score = 1\n",
    "        if count >= 80:\n",
    "            score = 2\n",
    "        return score\n",
    "\n",
    "    df[\"score\"] = df.apply(get_sum_score,axis =1)\n",
    "    return df\n",
    "\n",
    "df = get_df(dict_raws_base)"
   ]
  },
  {
   "cell_type": "code",
   "execution_count": 6,
   "metadata": {},
   "outputs": [
    {
     "output_type": "stream",
     "name": "stdout",
     "text": [
      "[[2 3 0 2]\n [0 0 3 0]\n [0 1 2 1]\n ...\n [2 1 2 1]\n [1 1 2 3]\n [1 1 2 2]]\n[1 0 0 ... 1 1 1]\n"
     ]
    }
   ],
   "source": [
    "from sklearn.model_selection import train_test_split\n",
    "from sklearn.ensemble import RandomForestClassifier\n",
    "\n",
    "wine_data = df[columns].values\n",
    "wine_target = df[\"score\"].values\n",
    "print(wine_data)\n",
    "print(wine_target)\n"
   ]
  },
  {
   "cell_type": "code",
   "execution_count": 7,
   "metadata": {},
   "outputs": [
    {
     "output_type": "stream",
     "name": "stdout",
     "text": [
      "Random Forest:1.0\n"
     ]
    }
   ],
   "source": [
    "Xtrain, Xtest, Ytrain, Ytest = train_test_split(wine_data,wine_target,test_size=0.3)\n",
    "\n",
    "r_lf = RandomForestClassifier(random_state=0)\n",
    "r_lf = r_lf.fit(Xtrain,Ytrain)\n",
    "r_score = r_lf.score(Xtest,Ytest)\n",
    "\n",
    "print(\"Random Forest:{}\".format(r_score))"
   ]
  },
  {
   "cell_type": "code",
   "execution_count": 8,
   "metadata": {},
   "outputs": [
    {
     "output_type": "stream",
     "name": "stdout",
     "text": [
      "[2]\n"
     ]
    }
   ],
   "source": [
    "print(r_lf.predict([[2,3,3,3]]))"
   ]
  },
  {
   "cell_type": "code",
   "execution_count": 10,
   "metadata": {},
   "outputs": [
    {
     "output_type": "execute_result",
     "data": {
      "text/plain": [
       "   if ((input[2]) <= (2.5)) {\\n                    if ((input[2]) <= (1.5)) {\\n                        var98 = [1.0, 0.0, 0.0];\\n                    } else {\\n                        if ((input[1]) <= (1.5)) {\\n                            var98 = [1.0, 0.0, 0.0];\\n                        } else {\\n                            if ((input[3]) <= (0.5)) {\\n                                var98 = [1.0, 0.0, 0.0];\\n                            } else {\\n                                var98 = [0.0, 1.0, 0.0];\\n                            }\\n                        }\\n                    }\\n                } else {\\n                    if ((input[1]) <= (1.5)) {\\n                        var98 = [1.0, 0.0, 0.0];\\n                    } else {\\n                        var98 = [0.0, 1.0, 0.0];\\n                    }\\n                }\\n            }\\n        } else {\\n            if ((input[1]) <= (0.5)) {\\n                var98 = [1.0, 0.0, 0.0];\\n            } else {\\n                if ((input[2]) <= (0.5)) {\\n                    var98 = [1.0, 0.0, 0.0];\\n                } else {\\n                    if ((input[1]) <= (1.5)) {\\n                        if ((input[3]) <= (0.5)) {\\n                            if ((input[2]) <= (2.5)) {\\n                                var98 = [1.0, 0.0, 0.0];\\n                            } else {\\n                                var98 = [0.0, 1.0, 0.0];\\n                            }\\n                        } else {\\n                            if ((input[2]) <= (1.5)) {\\n                                var98 = [1.0, 0.0, 0.0];\\n                            } else {\\n                                var98 = [0.0, 1.0, 0.0];\\n                            }\\n                        }\\n                    } else {\\n                        if ((input[2]) <= (2.5)) {\\n                            var98 = [0.0, 1.0, 0.0];\\n                        } else {\\n                            if ((input[1]) <= (2.5)) {\\n                                if ((input[3]) <= (0.5)) {\\n                                    var98 = [0.0, 1.0, 0.0];\\n                                } else {\\n                                    var98 = [0.0, 0.0, 1.0];\\n                                }\\n                            } else {\\n                                if ((input[3]) <= (0.5)) {\\n                                    var98 = [0.0, 1.0, 0.0];\\n                                } else {\\n                                    var98 = [0.0, 0.0, 1.0];\\n                                }\\n                            }\\n                        }\\n                    }\\n                }\\n            }\\n        }\\n    } else {\\n        if ((input[0]) <= (1.5)) {\\n            if ((input[2]) <= (0.5)) {\\n                if ((input[1]) <= (1.5)) {\\n                    var98 = [1.0, 0.0, 0.0];\\n                } else {\\n                    if ((input[3]) <= (2.5)) {\\n                        var98 = [1.0, 0.0, 0.0];\\n                    } else {\\n                        if ((input[0]) <= (0.5)) {\\n                            var98 = [1.0, 0.0, 0.0];\\n                        } else {\\n                            var98 = [0.0, 1.0, 0.0];\\n                        }\\n                    }\\n                }\\n            } else {\\n                if ((input[0]) <= (0.5)) {\\n                    if ((input[1]) <= (1.5)) {\\n                        if ((input[3]) <= (2.5)) {\\n                            var98 = [1.0, 0.0, 0.0];\\n                        } else {\\n                            if ((input[1]) <= (0.5)) {\\n                                var98 = [1.0, 0.0, 0.0];\\n                            } else {\\n                                if ((input[2]) <= (2.5)) {\\n                                    var98 = [1.0, 0.0, 0.0];\\n                                } else {\\n                                    var98 = [0.0, 1.0, 0.0];\\n                                }\\n                            }\\n                        }\\n                    } else {\\n                        var98 = [0.0, 1.0, 0.0];\\n                    }\\n                } else {\\n                    if ((input[3]) <= (2.5)) {\\n                        if ((input[1]) <= (0.5)) {\\n                            var98 = [1.0, 0.0, 0.0];\\n                        } else {\\n                            if ((input[2]) <= (2.5)) {\\n                                var98 = [0.0, 1.0, 0.0];\\n                            } else {\\n                                if ((input[1]) <= (1.5)) {\\n                                    var98 = [0.0, 1.0, 0.0];\\n                                } else {\\n                                    var98 = [0.0, 0.0, 1.0];\\n                                }\\n                            }\\n                        }\\n                    } else {\\n                        if ((input[2]) <= (2.5)) {\\n                            if ((input[1]) <= (0.5)) {\\n                                var98 = [1.0, 0.0, 0.0];\\n                            } else {\\n                                if ((input[2]) <= (1.5)) {\\n                                    var98 = [0.0, 1.0, 0.0];\\n                                } else {\\n                                    if ((input[1]) <= (1.5)) {\\n                                        var98 = [0.0, 1.0, 0.0];\\n                                    } else {\\n                                        var98 = [0.0, 0.0, 1.0];\\n                                    }\\n                                }\\n                            }\\n                        } else {\\n                            if ((input[1]) <= (1.5)) {\\n                                var98 = [0.0, 1.0, 0.0];\\n                            } else {\\n                                var98 = [0.0, 0.0, 1.0];\\n                            }\\n                        }\\n                    }\\n                }\\n            }\\n        } else {\\n            if ((input[3]) <= (2.5)) {\\n                if ((input[1]) <= (0.5)) {\\n                    if ((input[2]) <= (0.5)) {\\n                        var98 = [1.0, 0.0, 0.0];\\n                    } else {\\n                        var98 = [0.0, 1.0, 0.0];\\n                    }\\n                } else {\\n                    if ((input[2]) <= (0.5)) {\\n                        if ((input[1]) <= (1.5)) {\\n                            var98 = [1.0, 0.0, 0.0];\\n                        } else {\\n                            var98 = [0.0, 1.0, 0.0];\\n                        }\\n                    } else {\\n                        if ((input[1]) <= (1.5)) {\\n                            if ((input[2]) <= (2.5)) {\\n                                var98 = [0.0, 1.0, 0.0];\\n                            } else {\\n                                var98 = [0.0, 0.0, 1.0];\\n                            }\\n                        } else {\\n                            var98 = [0.0, 0.0, 1.0];\\n                        }\\n                    }\\n                }\\n            } else {\\n                if ((input[2]) <= (1.5)) {\\n                    if ((input[2]) <= (0.5)) {\\n                        if ((input[1]) <= (0.5)) {\\n                            var98 = [1.0, 0.0, 0.0];\\n                        } else {\\n                            var98 = [0.0, 1.0, 0.0];\\n                        }\\n                    } else {\\n                        if ((input[1]) <= (1.5)) {\\n                            var98 = [0.0, 1.0, 0.0];\\n                        } else {\\n                            var98 = [0.0, 0.0, 1.0];\\n                        }\\n                    }\\n                } else {\\n                    if ((input[2]) <= (2.5)) {\\n                        if ((input[1]) <= (0.5)) {\\n                            var98 = [0.0, 1.0, 0.0];\\n                        } else {\\n                            var98 = [0.0, 0.0, 1.0];\\n                        }\\n                    } else {\\n                        var98 = [0.0, 0.0, 1.0];\\n                    }\\n                }\\n            }\\n        }\\n    }\\n    var var99;\\n    if ((input[1]) <= (1.5)) {\\n        if ((input[3]) <= (1.5)) {\\n            if ((input[1]) <= (0.5)) {\\n                var99 = [1.0, 0.0, 0.0];\\n            } else {\\n                if ((input[0]) <= (1.5)) {\\n                    var99 = [1.0, 0.0, 0.0];\\n                } else {\\n                    if ((input[2]) <= (1.5)) {\\n                        var99 = [1.0, 0.0, 0.0];\\n                    } else {\\n                        if ((input[2]) <= (2.5)) {\\n                            if ((input[3]) <= (0.5)) {\\n                                var99 = [1.0, 0.0, 0.0];\\n                            } else {\\n                                var99 = [0.0, 1.0, 0.0];\\n                            }\\n                        } else {\\n                            var99 = [0.0, 1.0, 0.0];\\n                        }\\n                    }\\n                }\\n            }\\n        } else {\\n            if ((input[0]) <= (0.5)) {\\n                if ((input[2]) <= (2.5)) {\\n                    var99 = [1.0, 0.0, 0.0];\\n                } else {\\n                    if ((input[1]) <= (0.5)) {\\n                        var99 = [1.0, 0.0, 0.0];\\n                    } else {\\n                        if ((input[3]) <= (2.5)) {\\n                            var99 = [1.0, 0.0, 0.0];\\n                        } else {\\n                            var99 = [0.0, 1.0, 0.0];\\n                        }\\n                    }\\n                }\\n            } else {\\n                if ((input[2]) <= (0.5)) {\\n                    if ((input[3]) <= (2.5)) {\\n                        var99 = [1.0, 0.0, 0.0];\\n                    } else {\\n                        if ((input[1]) <= (0.5)) {\\n                            var99 = [1.0, 0.0, 0.0];\\n                        } else {\\n                            if ((input[0]) <= (1.5)) {\\n                                var99 = [1.0, 0.0, 0.0];\\n                            } else {\\n                                var99 = [0.0, 1.0, 0.0];\\n                            }\\n                        }\\n                    }\\n                } else {\\n                    if ((input[0]) <= (1.5)) {\\n                        if ((input[2]) <= (2.5)) {\\n                            if ((input[2]) <= (1.5)) {\\n                                if ((input[1]) <= (0.5)) {\\n                                    var99 = [1.0, 0.0, 0.0];\\n                                } else {\\n                                    var99 = [0.0, 1.0, 0.0];\\n                                }\\n                            } else {\\n                                if ((input[1]) <= (0.5)) {\\n                                    var99 = [1.0, 0.0, 0.0];\\n                                } else {\\n                                    var99 = [0.0, 1.0, 0.0];\\n                                }\\n                            }\\n                        } else {\\n                            if ((input[3]) <= (2.5)) {\\n                                if ((input[1]) <= (0.5)) {\\n                                    var99 = [1.0, 0.0, 0.0];\\n                                } else {\\n                                    var99 = [0.0, 1.0, 0.0];\\n                                }\\n                            } else {\\n                                var99 = [0.0, 1.0, 0.0];\\n                            }\\n                        }\\n                    } else {\\n                        if ((input[2]) <= (1.5)) {\\n                            var99 = [0.0, 1.0, 0.0];\\n                        } else {\\n                            if ((input[1]) <= (0.5)) {\\n                                var99 = [0.0, 1.0, 0.0];\\n                            } else {\\n                                if ((input[2]) <= (2.5)) {\\n                                    if ((input[3]) <= (2.5)) {\\n                                        var99 = [0.0, 1.0, 0.0];\\n                                    } else {\\n                                        var99 = [0.0, 0.0, 1.0];\\n                                    }\\n                                } else {\\n                                    var99 = [0.0, 0.0, 1.0];\\n                                }\\n                            }\\n                        }\\n                    }\\n                }\\n            }\\n        }\\n    } else {\\n        if ((input[3]) <= (1.5)) {\\n            if ((input[0]) <= (0.5)) {\\n                var99 = [1.0, 0.0, 0.0];\\n            } else {\\n                if ((input[2]) <= (0.5)) {\\n                    var99 = [1.0, 0.0, 0.0];\\n                } else {\\n                    if ((input[2]) <= (1.5)) {\\n                        if ((input[1]) <= (2.5)) {\\n                            if ((input[0]) <= (1.5)) {\\n                                var99 = [1.0, 0.0, 0.0];\\n                            } else {\\n                                var99 = [0.0, 1.0, 0.0];\\n                            }\\n                        } else {\\n                            if ((input[0]) <= (1.5)) {\\n                                var99 = [1.0, 0.0, 0.0];\\n                            } else {\\n                                var99 = [0.0, 1.0, 0.0];\\n                            }\\n                        }\\n                    } else {\\n                        if ((input[3]) <= (0.5)) {\\n                            if ((input[2]) <= (2.5)) {\\n                                if ((input[0]) <= (1.5)) {\\n                                    var99 = [1.0, 0.0, 0.0];\\n                                } else {\\n                                    var99 = [0.0, 1.0, 0.0];\\n                                }\\n                            } else {\\n                                var99 = [0.0, 1.0, 0.0];\\n                            }\\n                        } else {\\n                            if ((input[0]) <= (1.5)) {\\n                                var99 = [0.0, 1.0, 0.0];\\n                            } else {\\n                                if ((input[2]) <= (2.5)) {\\n                                    var99 = [0.0, 1.0, 0.0];\\n                                } else {\\n                                    var99 = [0.0, 0.0, 1.0];\\n                                }\\n                            }\\n                        }\\n                    }\\n                }\\n            }\\n        } else {\\n            if ((input[0]) <= (1.5)) {\\n                if ((input[3]) <= (2.5)) {\\n                    if ((input[0]) <= (0.5)) {\\n                        if ((input[1]) <= (2.5)) {\\n                            if ((input[2]) <= (0.5)) {\\n                                var99 = [1.0, 0.0, 0.0];\\n                            } else {\\n                                var99 = [0.0, 1.0, 0.0];\\n                            }\\n                        } else {\\n                            if ((input[2]) <= (0.5)) {\\n                                var99 = [1.0, 0.0, 0.0];\\n                            } else {\\n                                var99 = [0.0, 1.0, 0.0];\\n                            }\\n                        }\\n                    } else {\\n                        if ((input[2]) <= (2.5)) {\\n                            if ((input[2]) <= (0.5)) {\\n                                var99 = [1.0, 0.0, 0.0];\\n                            } else {\\n                                var99 = [0.0, 1.0, 0.0];\\n                            }\\n                        } else {\\n                            var99 = [0.0, 0.0, 1.0];\\n                        }\\n                    }\\n                } else {\\n                    if ((input[0]) <= (0.5)) {\\n                        if ((input[1]) <= (2.5)) {\\n                            if ((input[2]) <= (0.5)) {\\n                                var99 = [1.0, 0.0, 0.0];\\n                            } else {\\n                                var99 = [0.0, 1.0, 0.0];\\n                            }\\n                        } else {\\n                            if ((input[2]) <= (0.5)) {\\n                                var99 = [1.0, 0.0, 0.0];\\n                            } else {\\n                                var99 = [0.0, 1.0, 0.0];\\n                            }\\n                        }\\n                    } else {\\n                        if ((input[1]) <= (2.5)) {\\n                            if ((input[2]) <= (1.5)) {\\n                                var99 = [0.0, 1.0, 0.0];\\n                            } else {\\n                                var99 = [0.0, 0.0, 1.0];\\n                            }\\n                        } else {\\n                            if ((input[2]) <= (1.5)) {\\n                                var99 = [0.0, 1.0, 0.0];\\n                            } else {\\n                                var99 = [0.0, 0.0, 1.0];\\n                            }\\n                        }\\n                    }\\n                }\\n            } else {\\n                if ((input[3]) <= (2.5)) {\\n                    if ((input[1]) <= (2.5)) {\\n                        if ((input[2]) <= (0.5)) {\\n                            var99 = [0.0, 1.0, 0.0];\\n                        } else {\\n                            var99 = [0.0, 0.0, 1.0];\\n                        }\\n                    } else {\\n                        if ((input[2]) <= (0.5)) {\\n                            var99 = [0.0, 1.0, 0.0];\\n                        } else {\\n                            var99 = [0.0, 0.0, 1.0];\\n                        }\\n                    }\\n                } else {\\n                    if ((input[2]) <= (0.5)) {\\n                        var99 = [0.0, 1.0, 0.0];\\n                    } else {\\n                        var99 = [0.0, 0.0, 1.0];\\n                    }\\n                }\\n            }\\n        }\\n    }\\n    return mulVectorNumber(addVectors(addVectors(addVectors(addVectors(addVectors(addVectors(addVectors(addVectors(addVectors(addVectors(addVectors(addVectors(addVectors(addVectors(addVectors(addVectors(addVectors(addVectors(addVectors(addVectors(addVectors(addVectors(addVectors(addVectors(addVectors(addVectors(addVectors(addVectors(addVectors(addVectors(addVectors(addVectors(addVectors(addVectors(addVectors(addVectors(addVectors(addVectors(addVectors(addVectors(addVectors(addVectors(addVectors(addVectors(addVectors(addVectors(addVectors(addVectors(addVectors(addVectors(addVectors(addVectors(addVectors(addVectors(addVectors(addVectors(addVectors(addVectors(addVectors(addVectors(addVectors(addVectors(addVectors(addVectors(addVectors(addVectors(addVectors(addVectors(addVectors(addVectors(addVectors(addVectors(addVectors(addVectors(addVectors(addVectors(addVectors(addVectors(addVectors(addVectors(addVectors(addVectors(addVectors(addVectors(addVectors(addVectors(addVectors(addVectors(addVectors(addVectors(addVectors(addVectors(addVectors(addVectors(addVectors(addVectors(addVectors(addVectors(addVectors(var0, var1), var2), var3), var4), var5), var6), var7), var8), var9), var10), var11), var12), var13), var14), var15), var16), var17), var18), var19), var20), var21), var22), var23), var24), var25), var26), var27), var28), var29), var30), var31), var32), var33), var34), var35), var36), var37), var38), var39), var40), var41), var42), var43), var44), var45), var46), var47), var48), var49), var50), var51), var52), var53), var54), var55), var56), var57), var58), var59), var60), var61), var62), var63), var64), var65), var66), var67), var68), var69), var70), var71), var72), var73), var74), var75), var76), var77), var78), var79), var80), var81), var82), var83), var84), var85), var86), var87), var88), var89), var90), var91), var92), var93), var94), var95), var96), var97), var98), var99), 0.01);\\n}\\nfunction addVectors(v1, v2) {\\n    let result = new Array(v1.length);\\n    for (let i = 0; i < v1.length; i++) {\\n        result[i] = v1[i] + v2[i];\\n    }\\n    return result;\\n}\\nfunction mulVectorNumber(v1, num) {\\n    let result = new Array(v1.length);\\n    for (let i = 0; i < v1.length; i++) {\\n        result[i] = v1[i] * num;\\n    }\\n    return result;\\n}\\n'"
      ]
     },
     "metadata": {},
     "execution_count": 10
    }
   ],
   "source": [
    "## 模型可以转化成代码供程序使用\n",
    "import m2cgen as m2c\n",
    "code = m2c.export_to_java(r_lf)\n",
    "code"
   ]
  },
  {
   "cell_type": "code",
   "execution_count": null,
   "metadata": {},
   "outputs": [],
   "source": []
  }
 ],
 "metadata": {
  "kernelspec": {
   "display_name": "Python 3",
   "language": "python",
   "name": "python3"
  },
  "language_info": {
   "codemirror_mode": {
    "name": "ipython",
    "version": 3
   },
   "file_extension": ".py",
   "mimetype": "text/x-python",
   "name": "python",
   "nbconvert_exporter": "python",
   "pygments_lexer": "ipython3",
   "version": "3.8.3-final"
  }
 },
 "nbformat": 4,
 "nbformat_minor": 4
}