{
 "cells": [
  {
   "cell_type": "code",
   "execution_count": 33,
   "metadata": {},
   "outputs": [],
   "source": [
    "## 现不依赖外部数据，由逻辑生成随机数据源进行推算\n",
    "## 期望生成的 AI 先掌握由人类总结的逻辑\n",
    "## 每种特征分几档，每档根据情况折算得分，得分高于 80 的认为最终可以上岗成功\n",
    "## 后续业务数据逐步集成\n",
    "## 特征之间可能相互影响，如家庭背景影响薪资权重，婚姻状况影响上班耗时权重（暂不考虑）\n",
    "## 后续权重计算可能参考【折算成薪资后的数额进行】"
   ]
  },
  {
   "cell_type": "code",
   "execution_count": 34,
   "metadata": {},
   "outputs": [
    {
     "output_type": "execute_result",
     "data": {
      "text/plain": [
       "      job_categories  insurance  benefits  go_work_time  score\n",
       "0                  0          0         2             3      0\n",
       "1                  0          2         2             2      1\n",
       "2                  2          0         3             0      0\n",
       "3                  0          3         3             2      1\n",
       "4                  0          1         1             2      0\n",
       "...              ...        ...       ...           ...    ...\n",
       "1995               2          0         2             2      1\n",
       "1996               2          1         3             3      2\n",
       "1997               1          1         2             0      0\n",
       "1998               1          0         0             2      0\n",
       "1999               2          0         3             0      0\n",
       "\n",
       "[2000 rows x 5 columns]"
      ],
      "text/html": "<div>\n<style scoped>\n    .dataframe tbody tr th:only-of-type {\n        vertical-align: middle;\n    }\n\n    .dataframe tbody tr th {\n        vertical-align: top;\n    }\n\n    .dataframe thead th {\n        text-align: right;\n    }\n</style>\n<table border=\"1\" class=\"dataframe\">\n  <thead>\n    <tr style=\"text-align: right;\">\n      <th></th>\n      <th>job_categories</th>\n      <th>insurance</th>\n      <th>benefits</th>\n      <th>go_work_time</th>\n      <th>score</th>\n    </tr>\n  </thead>\n  <tbody>\n    <tr>\n      <th>0</th>\n      <td>0</td>\n      <td>0</td>\n      <td>2</td>\n      <td>3</td>\n      <td>0</td>\n    </tr>\n    <tr>\n      <th>1</th>\n      <td>0</td>\n      <td>2</td>\n      <td>2</td>\n      <td>2</td>\n      <td>1</td>\n    </tr>\n    <tr>\n      <th>2</th>\n      <td>2</td>\n      <td>0</td>\n      <td>3</td>\n      <td>0</td>\n      <td>0</td>\n    </tr>\n    <tr>\n      <th>3</th>\n      <td>0</td>\n      <td>3</td>\n      <td>3</td>\n      <td>2</td>\n      <td>1</td>\n    </tr>\n    <tr>\n      <th>4</th>\n      <td>0</td>\n      <td>1</td>\n      <td>1</td>\n      <td>2</td>\n      <td>0</td>\n    </tr>\n    <tr>\n      <th>...</th>\n      <td>...</td>\n      <td>...</td>\n      <td>...</td>\n      <td>...</td>\n      <td>...</td>\n    </tr>\n    <tr>\n      <th>1995</th>\n      <td>2</td>\n      <td>0</td>\n      <td>2</td>\n      <td>2</td>\n      <td>1</td>\n    </tr>\n    <tr>\n      <th>1996</th>\n      <td>2</td>\n      <td>1</td>\n      <td>3</td>\n      <td>3</td>\n      <td>2</td>\n    </tr>\n    <tr>\n      <th>1997</th>\n      <td>1</td>\n      <td>1</td>\n      <td>2</td>\n      <td>0</td>\n      <td>0</td>\n    </tr>\n    <tr>\n      <th>1998</th>\n      <td>1</td>\n      <td>0</td>\n      <td>0</td>\n      <td>2</td>\n      <td>0</td>\n    </tr>\n    <tr>\n      <th>1999</th>\n      <td>2</td>\n      <td>0</td>\n      <td>3</td>\n      <td>0</td>\n      <td>0</td>\n    </tr>\n  </tbody>\n</table>\n<p>2000 rows × 5 columns</p>\n</div>"
     },
     "metadata": {},
     "execution_count": 34
    }
   ],
   "source": [
    "import numpy as np\n",
    "import pandas as pd\n",
    "\n",
    "# 按照以下逻辑生成数据作为基础数据，表达目前的逻辑匹配推荐算法\n",
    "SIZE = 2000\n",
    "dict_raws = {\n",
    "    # 职位类别 \n",
    "    # 0 非常不满意\n",
    "    # 1 不满意\n",
    "    # 2 满意\n",
    "    'job_categories': {\n",
    "        'high': 3,\n",
    "        'score': [0, 50, 100],\n",
    "    },\n",
    "    # 缴金\n",
    "    # 0 公司缴纳+用户在乎\n",
    "    # 1 公司缴纳+用户不在乎\n",
    "    # 2 公司缴纳+用户在乎\n",
    "    # 3 公司不缴纳+用户不在乎\n",
    "    'insurance': {\n",
    "        'high': 4,\n",
    "        'score': [0, 50, 100, 100],\n",
    "    },\n",
    "    # 薪资+福利(包吃住等)\n",
    "    # 0 薪资低于预期+无福利\n",
    "    # 1 薪资低于预期+有福利\n",
    "    # 2 薪资达到预期+无福利\n",
    "    # 3 薪资达到预期+有福利\n",
    "    'benefits': {\n",
    "        'high': 4,\n",
    "        'score': [0, 60, 80, 100],\n",
    "    },\n",
    "    # 上班耗时\n",
    "    # 0 超过2小时\n",
    "    # 1 超过1小时\n",
    "    # 2 40分钟以内\n",
    "    # 3 20分钟以内\n",
    "    'go_work_time': {\n",
    "        'high': 4,\n",
    "        'score': [0, 20, 80, 100],\n",
    "    },\n",
    "}\n",
    "\n",
    "df_raws = {}\n",
    "for key in dict_raws:\n",
    "    df_raws[key] = np.random.randint(dict_raws[key]['high'], size=(SIZE))\n",
    "columns = dict_raws.keys()\n",
    "df=pd.DataFrame(df_raws, columns=columns)\n",
    "\n",
    "def get_sum_score(d):\n",
    "    # 得分 0 总分 < 60 不考虑\n",
    "    # 得分 1 总分 60 ~ 80 可以考虑\n",
    "    # 得分 2 总分 > 80 有较强上岗可能性\n",
    "    score = 0\n",
    "    count = 0\n",
    "    for key in columns:\n",
    "        score = dict_raws[key]['score'][d[key]]\n",
    "        # 暂时不设置权重，认为各特征权重相等 weight = dict_raws[key]['weight']\n",
    "        count += (score / len(columns))\n",
    "    if count < 60:\n",
    "        score = 0\n",
    "    if count >= 60 and count < 80:\n",
    "        score = 1\n",
    "    if count >= 80:\n",
    "        score = 2\n",
    "    return score\n",
    "\n",
    "df[\"score\"] = df.apply(get_sum_score,axis =1)\n",
    "\n",
    "df"
   ]
  },
  {
   "cell_type": "code",
   "execution_count": 36,
   "metadata": {},
   "outputs": [
    {
     "output_type": "stream",
     "name": "stdout",
     "text": [
      "[[0 0 2 3]\n [0 2 2 2]\n [2 0 3 0]\n ...\n [1 1 2 0]\n [1 0 0 2]\n [2 0 3 0]]\n[0 1 0 ... 0 0 0]\n"
     ]
    }
   ],
   "source": [
    "from sklearn.model_selection import train_test_split\n",
    "from sklearn.ensemble import RandomForestClassifier\n",
    "\n",
    "wine_data = df[columns].values\n",
    "wine_target = df[\"score\"].values\n",
    "print(wine_data)\n",
    "print(wine_target)\n"
   ]
  },
  {
   "cell_type": "code",
   "execution_count": 37,
   "metadata": {},
   "outputs": [
    {
     "output_type": "stream",
     "name": "stdout",
     "text": [
      "Random Forest:1.0\n"
     ]
    }
   ],
   "source": [
    "Xtrain, Xtest, Ytrain, Ytest = train_test_split(wine_data,wine_target,test_size=0.3)\n",
    "\n",
    "r_lf = RandomForestClassifier(random_state=0)\n",
    "r_lf = r_lf.fit(Xtrain,Ytrain)\n",
    "r_score = r_lf.score(Xtest,Ytest)\n",
    "\n",
    "print(\"Random Forest:{}\".format(r_score))"
   ]
  },
  {
   "cell_type": "code",
   "execution_count": 38,
   "metadata": {},
   "outputs": [
    {
     "output_type": "stream",
     "name": "stdout",
     "text": [
      "[2]\n"
     ]
    }
   ],
   "source": [
    "print(r_lf.predict([[2,3,3,3]]))"
   ]
  },
  {
   "cell_type": "code",
   "execution_count": null,
   "metadata": {},
   "outputs": [],
   "source": []
  }
 ],
 "metadata": {
  "kernelspec": {
   "display_name": "Python 3",
   "language": "python",
   "name": "python3"
  },
  "language_info": {
   "codemirror_mode": {
    "name": "ipython",
    "version": 3
   },
   "file_extension": ".py",
   "mimetype": "text/x-python",
   "name": "python",
   "nbconvert_exporter": "python",
   "pygments_lexer": "ipython3",
   "version": "3.8.3-final"
  }
 },
 "nbformat": 4,
 "nbformat_minor": 4
}