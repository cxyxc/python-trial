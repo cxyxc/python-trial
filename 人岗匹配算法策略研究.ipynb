{
 "cells": [
  {
   "cell_type": "code",
   "execution_count": 105,
   "metadata": {},
   "outputs": [],
   "source": [
    "## 问题\n",
    "    ### 我们没有数据\n",
    "    ### 我们不知道哪些特征会影响人找工作，权重如何\n",
    "    ### 人最终面试、上岗受到很多因素影响。如【有其他更优质工作机会、突发事件】等。这些不应该作为【匹配失败】的数据。那么什么样的数据应该作为失败数据呢？上岗成功的一定算是匹配成功，但不匹配的数据仍需要由逻辑得出\n",
    "\n",
    "## 解题思路\n",
    "    ### 特征选取\n",
    "        ### 根据现实情况选择部分显著特征，每种特征根据情况折算得分，得分高于 80 的认为最终可以上岗成功（这里把特征总结成枚举项，便于随机生成）\n",
    "        ### 特征之间可能相互影响，如家庭背景影响薪资权重，婚姻状况影响上班耗时权重（暂不考虑）\n",
    "        ### 后续补充权重计算【可能应该按折算成薪资后的数额进行】\n",
    "    ### 数据来源\n",
    "        ### 没有足够外部数据，就由逻辑生成随机数据源\n",
    "        ### 数据源足够大时(约为 2000 条即可)，可让 AI 掌握由人类总结的逻辑\n",
    "        ### 此时输出结果应与现有逻辑匹配保持一致\n",
    "    ### 后续业务数据集成\n",
    "        ### 最终上岗的业务数据可以直接与生成的随机数据源混合，训练后查看结果，如果仍获得较高拟合度，则认为我们总结的特征及权重符合实际。如果发现拟合度较低，分析原因\n",
    "        ### 后续持续更换特征，迭代找出更合适的模型\n",
    "        ### 着重分析最终上岗数据中的较低分值的数据，发掘其中隐藏的特征"
   ]
  },
  {
   "cell_type": "code",
   "execution_count": 106,
   "metadata": {},
   "outputs": [],
   "source": [
    "# 按照以下逻辑生成数据作为基础数据，表达逻辑匹配推荐算法\n",
    "# 基准逻辑算法\n",
    "dict_raws_base = {\n",
    "    # 性别\n",
    "    # 0 岗位有硬性要求 人员不符合\n",
    "    # 1 岗位有期望要求 人员不符合\n",
    "    # 2 岗位有期望要求 人员符合\n",
    "    # 3 岗位无要求\n",
    "    # 4 岗位有硬性要求 人员符合\n",
    "    'gender': {\n",
    "        'high': 5,\n",
    "        'score': [-10000, 0, 100, 100, 120],\n",
    "    },\n",
    "    # 时间匹配度（PS：时间匹配度的概念是由人的时间与岗位需要之间时间矩阵的交集，情况复杂，需要独立算法单独计算，此处不展开）\n",
    "    # 1 / 7 是 14.25%\n",
    "    # 0 <15%\n",
    "    # 1 >=15% <60%\n",
    "    # 2 >=60% <90%\n",
    "    # 3 >90%\n",
    "    'time_match_rate': {\n",
    "        'high': 4,\n",
    "        'score': [-10000, 0, 60, 100],\n",
    "    },\n",
    "    # 职位类别 \n",
    "    # 0 非常不满意\n",
    "    # 1 不满意\n",
    "    # 2 满意\n",
    "    'job_categories': {\n",
    "        'high': 3,\n",
    "        'score': [0, 60, 100],\n",
    "    },\n",
    "    # 缴金\n",
    "    # 0 公司不缴纳+用户在乎\n",
    "    # 1 公司缴纳+用户不在乎\n",
    "    # 2 公司缴纳+用户在乎\n",
    "    # 3 公司不缴纳+用户不在乎\n",
    "    'insurance': {\n",
    "        'high': 4,\n",
    "        'score': [0, 60, 100, 100],\n",
    "    },\n",
    "    # 薪资+福利(包吃住等)\n",
    "    # 0 薪资低于预期+无福利\n",
    "    # 1 薪资低于预期+有福利\n",
    "    # 2 薪资达到预期+无福利\n",
    "    # 3 薪资达到预期+有福利\n",
    "    'benefits': {\n",
    "        'high': 4,\n",
    "        'score': [0, 20, 80, 100],\n",
    "    },\n",
    "    # 上班耗时\n",
    "    # 0 超过2小时\n",
    "    # 1 超过1小时\n",
    "    # 2 40分钟以内\n",
    "    # 3 20分钟以内\n",
    "    'go_work_time': {\n",
    "        'high': 4,\n",
    "        'score': [0, 20, 80, 100],\n",
    "    },\n",
    "}\n",
    "# 假定特征相同，只是具体规则有出入\n",
    "columns = dict_raws_base.keys()\n",
    "# 得分模型\n",
    "def get_score(d, score_raws):\n",
    "    count = 0\n",
    "    for key in columns:\n",
    "        score = score_raws[key]['score'][int(d[key])]\n",
    "        # 暂时不设置权重，认为各特征权重相等 weight = score_raws[key]['weight']\n",
    "        count += (score / len(columns))\n",
    "    return count\n",
    "def get_score_rate(d, score_key):\n",
    "    # 得分 0 总分 < 60 不考虑\n",
    "    # 得分 1 总分 60 ~ 80 可以考虑\n",
    "    # 得分 2 总分 > 80 有较强上岗可能性\n",
    "    rate = 0\n",
    "    count = d[score_key]\n",
    "    if count < 60:\n",
    "        rate = 0\n",
    "    if count >= 60 and count < 80:\n",
    "        rate = 1\n",
    "    if count >= 80:\n",
    "        rate = 2\n",
    "    return rate"
   ]
  },
  {
   "cell_type": "code",
   "execution_count": 107,
   "metadata": {},
   "outputs": [
    {
     "output_type": "execute_result",
     "data": {
      "text/plain": [
       "       gender  time_match_rate  job_categories  insurance  benefits  \\\n",
       "0           0                3               1          1         3   \n",
       "1           4                0               0          3         3   \n",
       "2           0                2               2          0         0   \n",
       "3           1                1               1          1         0   \n",
       "4           1                2               2          1         1   \n",
       "...       ...              ...             ...        ...       ...   \n",
       "19995       2                3               1          1         1   \n",
       "19996       4                3               1          0         2   \n",
       "19997       1                2               1          3         0   \n",
       "19998       4                3               1          0         3   \n",
       "19999       2                1               2          0         1   \n",
       "\n",
       "       go_work_time        score  score_rate  \n",
       "0                 3 -1596.666667           0  \n",
       "1                 1 -1610.000000           0  \n",
       "2                 3 -1623.333333           0  \n",
       "3                 0    20.000000           0  \n",
       "4                 2    53.333333           0  \n",
       "...             ...          ...         ...  \n",
       "19995             3    73.333333           1  \n",
       "19996             3    76.666667           1  \n",
       "19997             0    36.666667           0  \n",
       "19998             2    76.666667           1  \n",
       "19999             3    53.333333           0  \n",
       "\n",
       "[20000 rows x 8 columns]"
      ],
      "text/html": "<div>\n<style scoped>\n    .dataframe tbody tr th:only-of-type {\n        vertical-align: middle;\n    }\n\n    .dataframe tbody tr th {\n        vertical-align: top;\n    }\n\n    .dataframe thead th {\n        text-align: right;\n    }\n</style>\n<table border=\"1\" class=\"dataframe\">\n  <thead>\n    <tr style=\"text-align: right;\">\n      <th></th>\n      <th>gender</th>\n      <th>time_match_rate</th>\n      <th>job_categories</th>\n      <th>insurance</th>\n      <th>benefits</th>\n      <th>go_work_time</th>\n      <th>score</th>\n      <th>score_rate</th>\n    </tr>\n  </thead>\n  <tbody>\n    <tr>\n      <th>0</th>\n      <td>0</td>\n      <td>3</td>\n      <td>1</td>\n      <td>1</td>\n      <td>3</td>\n      <td>3</td>\n      <td>-1596.666667</td>\n      <td>0</td>\n    </tr>\n    <tr>\n      <th>1</th>\n      <td>4</td>\n      <td>0</td>\n      <td>0</td>\n      <td>3</td>\n      <td>3</td>\n      <td>1</td>\n      <td>-1610.000000</td>\n      <td>0</td>\n    </tr>\n    <tr>\n      <th>2</th>\n      <td>0</td>\n      <td>2</td>\n      <td>2</td>\n      <td>0</td>\n      <td>0</td>\n      <td>3</td>\n      <td>-1623.333333</td>\n      <td>0</td>\n    </tr>\n    <tr>\n      <th>3</th>\n      <td>1</td>\n      <td>1</td>\n      <td>1</td>\n      <td>1</td>\n      <td>0</td>\n      <td>0</td>\n      <td>20.000000</td>\n      <td>0</td>\n    </tr>\n    <tr>\n      <th>4</th>\n      <td>1</td>\n      <td>2</td>\n      <td>2</td>\n      <td>1</td>\n      <td>1</td>\n      <td>2</td>\n      <td>53.333333</td>\n      <td>0</td>\n    </tr>\n    <tr>\n      <th>...</th>\n      <td>...</td>\n      <td>...</td>\n      <td>...</td>\n      <td>...</td>\n      <td>...</td>\n      <td>...</td>\n      <td>...</td>\n      <td>...</td>\n    </tr>\n    <tr>\n      <th>19995</th>\n      <td>2</td>\n      <td>3</td>\n      <td>1</td>\n      <td>1</td>\n      <td>1</td>\n      <td>3</td>\n      <td>73.333333</td>\n      <td>1</td>\n    </tr>\n    <tr>\n      <th>19996</th>\n      <td>4</td>\n      <td>3</td>\n      <td>1</td>\n      <td>0</td>\n      <td>2</td>\n      <td>3</td>\n      <td>76.666667</td>\n      <td>1</td>\n    </tr>\n    <tr>\n      <th>19997</th>\n      <td>1</td>\n      <td>2</td>\n      <td>1</td>\n      <td>3</td>\n      <td>0</td>\n      <td>0</td>\n      <td>36.666667</td>\n      <td>0</td>\n    </tr>\n    <tr>\n      <th>19998</th>\n      <td>4</td>\n      <td>3</td>\n      <td>1</td>\n      <td>0</td>\n      <td>3</td>\n      <td>2</td>\n      <td>76.666667</td>\n      <td>1</td>\n    </tr>\n    <tr>\n      <th>19999</th>\n      <td>2</td>\n      <td>1</td>\n      <td>2</td>\n      <td>0</td>\n      <td>1</td>\n      <td>3</td>\n      <td>53.333333</td>\n      <td>0</td>\n    </tr>\n  </tbody>\n</table>\n<p>20000 rows × 8 columns</p>\n</div>"
     },
     "metadata": {},
     "execution_count": 107
    }
   ],
   "source": [
    "import numpy as np\n",
    "import pandas as pd\n",
    "\n",
    "def get_df(dict_raws, size):\n",
    "    df_raws = {}\n",
    "    for key in dict_raws:\n",
    "        df_raws[key] = np.random.randint(dict_raws[key]['high'], size=(size))\n",
    "    df=pd.DataFrame(df_raws, columns=columns)\n",
    "    return df\n",
    "\n",
    "df_mock = get_df(dict_raws_base, 20000)\n",
    "df_mock[\"score\"] = df_mock.apply(lambda d:get_score(d, dict_raws_base),axis =1)\n",
    "df_mock[\"score_rate\"] = df_mock.apply(lambda d:get_score_rate(d, 'score'),axis =1)\n",
    "# 模拟数据\n",
    "df_mock"
   ]
  },
  {
   "cell_type": "code",
   "execution_count": 108,
   "metadata": {},
   "outputs": [
    {
     "output_type": "stream",
     "name": "stdout",
     "text": [
      "随机森林模型评分:0.9993333333333333\n特征重要性分析:\n 1) time_match_rate                0.280778\n 2) gender                         0.232471\n 3) job_categories                 0.140745\n 4) insurance                      0.116617\n 5) go_work_time                   0.115246\n 6) benefits                       0.114143\n"
     ]
    }
   ],
   "source": [
    "from sklearn.model_selection import train_test_split\n",
    "from sklearn.ensemble import RandomForestClassifier\n",
    "\n",
    "def get_modal(df_data):\n",
    "    data = df_data[columns].values\n",
    "    target = df_data[\"score_rate\"].values\n",
    "    x_train, x_test, y_train, y_test = train_test_split(data,target,test_size=0.3)\n",
    "    r_lf = RandomForestClassifier(random_state=0)\n",
    "    r_lf = r_lf.fit(x_train,y_train)\n",
    "    r_score = r_lf.score(x_test,y_test)\n",
    "    # 得到 1.0 评分认为是机器学习模型可以正确的学会基准逻辑，认为随机模拟的数据量已经足够\n",
    "    print(\"随机森林模型评分:{}\".format(r_score))\n",
    "    importances = r_lf.feature_importances_\n",
    "    indices = np.argsort(importances)[::-1]\n",
    "    feat_labels = df_data.columns[0:]\n",
    "    print('特征重要性分析:')\n",
    "    for f in range(x_train.shape[1]):\n",
    "        print(\"%2d) %-*s %f\" % (f + 1, 30, feat_labels[indices[f]], importances[indices[f]]))\n",
    "    return r_lf\n",
    "df_mock_modal = get_modal(df_mock)"
   ]
  },
  {
   "cell_type": "code",
   "execution_count": 109,
   "metadata": {},
   "outputs": [
    {
     "output_type": "stream",
     "name": "stdout",
     "text": [
      "[0 0 2]\n"
     ]
    }
   ],
   "source": [
    "# 结果预测测试\n",
    "print(df_mock_modal.predict([\n",
    "    [0,0,0,0,0,0],\n",
    "    [1,1,1,1,1,1],\n",
    "    [3,3,3,3,3,3],\n",
    "]))"
   ]
  },
  {
   "cell_type": "code",
   "execution_count": 110,
   "metadata": {},
   "outputs": [],
   "source": [
    "## 模型可以转化成代码供程序使用\n",
    "import m2cgen as m2c\n",
    "code = m2c.export_to_java(df_mock_modal)"
   ]
  },
  {
   "cell_type": "code",
   "execution_count": 111,
   "metadata": {},
   "outputs": [],
   "source": [
    "## 以上是模型-策略的相互转化过程，基本可以得出结论，数据与模型本质上是一回事\n",
    "## 后续展开业务漏损数据对模型进行修正的过程\n",
    "\n",
    "# 假设后续出现一些漏损的业务数据(PS: 漏损数据指评分较低，但仍上岗成功的数据，或者评分极高，但用户或商家明确表示不合适的数据，两种数据同样重要，如果仅有一种，会造成模型向其中一个方向偏移)\n",
    "# 鉴别漏损数据的过程，可能会形成新的关键特征。如果特征调整，需要使用现有已上岗数据对策略进行回测（不展开讨论）\n",
    "# 漏损数据符合的得分模型假定如下（实际上我们不知道具体的漏损数据模型，但是有漏损数据，这里定义模型来生成数据）\n",
    "dict_raws_busi = {\n",
    "    # 性别\n",
    "    # 0 岗位有硬性要求 人员不符合\n",
    "    # 1 岗位有期望要求 人员不符合\n",
    "    # 2 岗位有期望要求 人员符合\n",
    "    # 3 岗位无要求\n",
    "    # 4 岗位有硬性要求 人员符合\n",
    "    'gender': {\n",
    "        'high': 5,\n",
    "        'score': [0, 0, 100, 100, 120],\n",
    "    },\n",
    "    # 时间匹配度（PS：时间匹配度的概念是由人的时间与岗位需要之间时间矩阵的交集，情况复杂，需要独立算法单独计算，此处不展开）\n",
    "    # 1 / 7 是 14.25%\n",
    "    # 0 <15%\n",
    "    # 1 >=15% <60%\n",
    "    # 2 >=60% <90%\n",
    "    # 3 >90%\n",
    "    'time_match_rate': {\n",
    "        'high': 4,\n",
    "        'score': [0, 0, 60, 100],\n",
    "    },\n",
    "    # 职位类别 \n",
    "    # 0 非常不满意\n",
    "    # 1 不满意\n",
    "    # 2 满意\n",
    "    'job_categories': {\n",
    "        'high': 3,\n",
    "        'score': [0, 60, 100],\n",
    "    },\n",
    "    # 缴金\n",
    "    # 0 公司不缴纳+用户在乎\n",
    "    # 1 公司缴纳+用户不在乎\n",
    "    # 2 公司缴纳+用户在乎\n",
    "    # 3 公司不缴纳+用户不在乎\n",
    "    'insurance': {\n",
    "        'high': 4,\n",
    "        'score': [0, 30, 60, 100],\n",
    "    },\n",
    "    # 薪资+福利(包吃住等)\n",
    "    # 0 薪资低于预期+无福利\n",
    "    # 1 薪资低于预期+有福利\n",
    "    # 2 薪资达到预期+无福利\n",
    "    # 3 薪资达到预期+有福利\n",
    "    'benefits': {\n",
    "        'high': 4,\n",
    "        'score': [0, 40, 100, 100],\n",
    "    },\n",
    "    # 上班耗时\n",
    "    # 0 超过2小时\n",
    "    # 1 超过1小时\n",
    "    # 2 40分钟以内\n",
    "    # 3 20分钟以内\n",
    "    'go_work_time': {\n",
    "        'high': 4,\n",
    "        'score': [0, 50, 80, 200],\n",
    "    },\n",
    "}"
   ]
  },
  {
   "cell_type": "code",
   "execution_count": 112,
   "metadata": {},
   "outputs": [
    {
     "output_type": "execute_result",
     "data": {
      "text/plain": [
       "       gender  time_match_rate  job_categories  insurance  benefits  \\\n",
       "35          3                0               2          2         1   \n",
       "52          3                0               1          3         1   \n",
       "92          0                2               1          2         2   \n",
       "97          2                0               2          3         0   \n",
       "118         0                3               1          2         3   \n",
       "...       ...              ...             ...        ...       ...   \n",
       "59610       0                0               2          3         2   \n",
       "59710       2                0               2          3         1   \n",
       "59773       3                0               1          3         3   \n",
       "59855       2                0               1          3         1   \n",
       "59988       0                2               2          2         3   \n",
       "\n",
       "       go_work_time        score  score_rate  busi_score  busi_score_rate  \n",
       "35                3 -1596.666667           0   83.333333                2  \n",
       "52                3 -1603.333333           0   83.333333                2  \n",
       "92                3 -1600.000000           0   80.000000                2  \n",
       "97                3 -1600.000000           0   83.333333                2  \n",
       "118               3 -1590.000000           0   86.666667                2  \n",
       "...             ...          ...         ...         ...              ...  \n",
       "59610             3 -3270.000000           0   83.333333                2  \n",
       "59710             3 -1596.666667           0   90.000000                2  \n",
       "59773             3 -1590.000000           0   93.333333                2  \n",
       "59855             3 -1603.333333           0   83.333333                2  \n",
       "59988             3 -1590.000000           0   86.666667                2  \n",
       "\n",
       "[1778 rows x 10 columns]"
      ],
      "text/html": "<div>\n<style scoped>\n    .dataframe tbody tr th:only-of-type {\n        vertical-align: middle;\n    }\n\n    .dataframe tbody tr th {\n        vertical-align: top;\n    }\n\n    .dataframe thead th {\n        text-align: right;\n    }\n</style>\n<table border=\"1\" class=\"dataframe\">\n  <thead>\n    <tr style=\"text-align: right;\">\n      <th></th>\n      <th>gender</th>\n      <th>time_match_rate</th>\n      <th>job_categories</th>\n      <th>insurance</th>\n      <th>benefits</th>\n      <th>go_work_time</th>\n      <th>score</th>\n      <th>score_rate</th>\n      <th>busi_score</th>\n      <th>busi_score_rate</th>\n    </tr>\n  </thead>\n  <tbody>\n    <tr>\n      <th>35</th>\n      <td>3</td>\n      <td>0</td>\n      <td>2</td>\n      <td>2</td>\n      <td>1</td>\n      <td>3</td>\n      <td>-1596.666667</td>\n      <td>0</td>\n      <td>83.333333</td>\n      <td>2</td>\n    </tr>\n    <tr>\n      <th>52</th>\n      <td>3</td>\n      <td>0</td>\n      <td>1</td>\n      <td>3</td>\n      <td>1</td>\n      <td>3</td>\n      <td>-1603.333333</td>\n      <td>0</td>\n      <td>83.333333</td>\n      <td>2</td>\n    </tr>\n    <tr>\n      <th>92</th>\n      <td>0</td>\n      <td>2</td>\n      <td>1</td>\n      <td>2</td>\n      <td>2</td>\n      <td>3</td>\n      <td>-1600.000000</td>\n      <td>0</td>\n      <td>80.000000</td>\n      <td>2</td>\n    </tr>\n    <tr>\n      <th>97</th>\n      <td>2</td>\n      <td>0</td>\n      <td>2</td>\n      <td>3</td>\n      <td>0</td>\n      <td>3</td>\n      <td>-1600.000000</td>\n      <td>0</td>\n      <td>83.333333</td>\n      <td>2</td>\n    </tr>\n    <tr>\n      <th>118</th>\n      <td>0</td>\n      <td>3</td>\n      <td>1</td>\n      <td>2</td>\n      <td>3</td>\n      <td>3</td>\n      <td>-1590.000000</td>\n      <td>0</td>\n      <td>86.666667</td>\n      <td>2</td>\n    </tr>\n    <tr>\n      <th>...</th>\n      <td>...</td>\n      <td>...</td>\n      <td>...</td>\n      <td>...</td>\n      <td>...</td>\n      <td>...</td>\n      <td>...</td>\n      <td>...</td>\n      <td>...</td>\n      <td>...</td>\n    </tr>\n    <tr>\n      <th>59610</th>\n      <td>0</td>\n      <td>0</td>\n      <td>2</td>\n      <td>3</td>\n      <td>2</td>\n      <td>3</td>\n      <td>-3270.000000</td>\n      <td>0</td>\n      <td>83.333333</td>\n      <td>2</td>\n    </tr>\n    <tr>\n      <th>59710</th>\n      <td>2</td>\n      <td>0</td>\n      <td>2</td>\n      <td>3</td>\n      <td>1</td>\n      <td>3</td>\n      <td>-1596.666667</td>\n      <td>0</td>\n      <td>90.000000</td>\n      <td>2</td>\n    </tr>\n    <tr>\n      <th>59773</th>\n      <td>3</td>\n      <td>0</td>\n      <td>1</td>\n      <td>3</td>\n      <td>3</td>\n      <td>3</td>\n      <td>-1590.000000</td>\n      <td>0</td>\n      <td>93.333333</td>\n      <td>2</td>\n    </tr>\n    <tr>\n      <th>59855</th>\n      <td>2</td>\n      <td>0</td>\n      <td>1</td>\n      <td>3</td>\n      <td>1</td>\n      <td>3</td>\n      <td>-1603.333333</td>\n      <td>0</td>\n      <td>83.333333</td>\n      <td>2</td>\n    </tr>\n    <tr>\n      <th>59988</th>\n      <td>0</td>\n      <td>2</td>\n      <td>2</td>\n      <td>2</td>\n      <td>3</td>\n      <td>3</td>\n      <td>-1590.000000</td>\n      <td>0</td>\n      <td>86.666667</td>\n      <td>2</td>\n    </tr>\n  </tbody>\n</table>\n<p>1778 rows × 10 columns</p>\n</div>"
     },
     "metadata": {},
     "execution_count": 112
    }
   ],
   "source": [
    "df_busi = get_df(dict_raws_base, 60000)\n",
    "# 基准模型评分\n",
    "df_busi[\"score\"] = df_busi.apply(lambda d:get_score(d, dict_raws_base),axis =1)\n",
    "df_busi[\"score_rate\"] = df_busi.apply(lambda d:get_score_rate(d, 'score'),axis =1)\n",
    "# 真实模型评分\n",
    "df_busi[\"busi_score\"] = df_busi.apply(lambda d:get_score(d, dict_raws_busi),axis =1)\n",
    "df_busi[\"busi_score_rate\"] = df_busi.apply(lambda d:get_score_rate(d, 'busi_score'),axis =1)\n",
    "# 过滤出基准模型评分等级为 0 但漏损模型评分等级为 2 的数据。即已上岗但未能推荐，反之假定为明确表示不合适的岗，这两者之间应该大体均等（或者标准模型评分为 1 但已上岗应该纠正为 2？）\n",
    "# 样本量级比较小，本身作为训练集很容易出现过拟合\n",
    "# df_busi_no 的数据在真实业务中难以排查\n",
    "df_busi_yes = df_busi.query('score_rate==0 & busi_score_rate==2')\n",
    "df_busi_no = df_busi.query('score_rate==2 & busi_score_rate==0')\n",
    "# df_busi = pd.concat([df_busi_yes, df_busi_no])\n",
    "df_busi = df_busi_yes\n",
    "df_busi"
   ]
  },
  {
   "cell_type": "code",
   "execution_count": 113,
   "metadata": {},
   "outputs": [],
   "source": [
    "df_busi['score'] = df_busi['busi_score']\n",
    "df_busi['score_rate'] = df_busi['busi_score_rate']\n",
    "df_busi = df_busi.drop(columns=['busi_score', 'busi_score_rate'])"
   ]
  },
  {
   "cell_type": "code",
   "execution_count": 114,
   "metadata": {},
   "outputs": [
    {
     "output_type": "stream",
     "name": "stdout",
     "text": [
      "随机森林模型评分:1.0\n特征重要性分析:\n 1) go_work_time                   0.000000\n 2) benefits                       0.000000\n 3) insurance                      0.000000\n 4) job_categories                 0.000000\n 5) time_match_rate                0.000000\n 6) gender                         0.000000\n"
     ]
    },
    {
     "output_type": "execute_result",
     "data": {
      "text/plain": [
       "array([2])"
      ]
     },
     "metadata": {},
     "execution_count": 114
    }
   ],
   "source": [
    "# 直接用业务数据训练模型，发现找不到规律？此处如果已经找到规律了，直接使用即可，真实的业务数据由于特征数量不足，不推荐岗位(评级为0)的数据难以界定，应该难以找到规律，如果能找到规律，全篇都可以理解为废话了。\n",
    "df_busi_modal = get_modal(df_busi)\n",
    "df_busi_modal.predict([[0,0,0,0,0,0]]) # 只有上岗数据训练出来的模型，得到的结论永远都是 2"
   ]
  },
  {
   "cell_type": "code",
   "execution_count": 115,
   "metadata": {},
   "outputs": [
    {
     "output_type": "execute_result",
     "data": {
      "text/plain": [
       "       gender  time_match_rate  job_categories  insurance  benefits  \\\n",
       "0           0                3               1          1         3   \n",
       "1           4                0               0          3         3   \n",
       "2           0                2               2          0         0   \n",
       "3           1                1               1          1         0   \n",
       "4           1                2               2          1         1   \n",
       "...       ...              ...             ...        ...       ...   \n",
       "59610       0                0               2          3         2   \n",
       "59710       2                0               2          3         1   \n",
       "59773       3                0               1          3         3   \n",
       "59855       2                0               1          3         1   \n",
       "59988       0                2               2          2         3   \n",
       "\n",
       "       go_work_time        score  score_rate  \n",
       "0                 3 -1596.666667           0  \n",
       "1                 1 -1610.000000           0  \n",
       "2                 3 -1623.333333           0  \n",
       "3                 0    20.000000           0  \n",
       "4                 2    53.333333           0  \n",
       "...             ...          ...         ...  \n",
       "59610             3    83.333333           2  \n",
       "59710             3    90.000000           2  \n",
       "59773             3    93.333333           2  \n",
       "59855             3    83.333333           2  \n",
       "59988             3    86.666667           2  \n",
       "\n",
       "[21778 rows x 8 columns]"
      ],
      "text/html": "<div>\n<style scoped>\n    .dataframe tbody tr th:only-of-type {\n        vertical-align: middle;\n    }\n\n    .dataframe tbody tr th {\n        vertical-align: top;\n    }\n\n    .dataframe thead th {\n        text-align: right;\n    }\n</style>\n<table border=\"1\" class=\"dataframe\">\n  <thead>\n    <tr style=\"text-align: right;\">\n      <th></th>\n      <th>gender</th>\n      <th>time_match_rate</th>\n      <th>job_categories</th>\n      <th>insurance</th>\n      <th>benefits</th>\n      <th>go_work_time</th>\n      <th>score</th>\n      <th>score_rate</th>\n    </tr>\n  </thead>\n  <tbody>\n    <tr>\n      <th>0</th>\n      <td>0</td>\n      <td>3</td>\n      <td>1</td>\n      <td>1</td>\n      <td>3</td>\n      <td>3</td>\n      <td>-1596.666667</td>\n      <td>0</td>\n    </tr>\n    <tr>\n      <th>1</th>\n      <td>4</td>\n      <td>0</td>\n      <td>0</td>\n      <td>3</td>\n      <td>3</td>\n      <td>1</td>\n      <td>-1610.000000</td>\n      <td>0</td>\n    </tr>\n    <tr>\n      <th>2</th>\n      <td>0</td>\n      <td>2</td>\n      <td>2</td>\n      <td>0</td>\n      <td>0</td>\n      <td>3</td>\n      <td>-1623.333333</td>\n      <td>0</td>\n    </tr>\n    <tr>\n      <th>3</th>\n      <td>1</td>\n      <td>1</td>\n      <td>1</td>\n      <td>1</td>\n      <td>0</td>\n      <td>0</td>\n      <td>20.000000</td>\n      <td>0</td>\n    </tr>\n    <tr>\n      <th>4</th>\n      <td>1</td>\n      <td>2</td>\n      <td>2</td>\n      <td>1</td>\n      <td>1</td>\n      <td>2</td>\n      <td>53.333333</td>\n      <td>0</td>\n    </tr>\n    <tr>\n      <th>...</th>\n      <td>...</td>\n      <td>...</td>\n      <td>...</td>\n      <td>...</td>\n      <td>...</td>\n      <td>...</td>\n      <td>...</td>\n      <td>...</td>\n    </tr>\n    <tr>\n      <th>59610</th>\n      <td>0</td>\n      <td>0</td>\n      <td>2</td>\n      <td>3</td>\n      <td>2</td>\n      <td>3</td>\n      <td>83.333333</td>\n      <td>2</td>\n    </tr>\n    <tr>\n      <th>59710</th>\n      <td>2</td>\n      <td>0</td>\n      <td>2</td>\n      <td>3</td>\n      <td>1</td>\n      <td>3</td>\n      <td>90.000000</td>\n      <td>2</td>\n    </tr>\n    <tr>\n      <th>59773</th>\n      <td>3</td>\n      <td>0</td>\n      <td>1</td>\n      <td>3</td>\n      <td>3</td>\n      <td>3</td>\n      <td>93.333333</td>\n      <td>2</td>\n    </tr>\n    <tr>\n      <th>59855</th>\n      <td>2</td>\n      <td>0</td>\n      <td>1</td>\n      <td>3</td>\n      <td>1</td>\n      <td>3</td>\n      <td>83.333333</td>\n      <td>2</td>\n    </tr>\n    <tr>\n      <th>59988</th>\n      <td>0</td>\n      <td>2</td>\n      <td>2</td>\n      <td>2</td>\n      <td>3</td>\n      <td>3</td>\n      <td>86.666667</td>\n      <td>2</td>\n    </tr>\n  </tbody>\n</table>\n<p>21778 rows × 8 columns</p>\n</div>"
     },
     "metadata": {},
     "execution_count": 115
    }
   ],
   "source": [
    "# 合并漏损数据与模拟数据\n",
    "df_combine = pd.concat([df_mock, df_busi])\n",
    "df_combine"
   ]
  },
  {
   "cell_type": "code",
   "execution_count": 116,
   "metadata": {},
   "outputs": [
    {
     "output_type": "stream",
     "name": "stdout",
     "text": [
      "随机森林模型评分:0.9712274257728803\n特征重要性分析:\n 1) time_match_rate                0.229604\n 2) gender                         0.194701\n 3) go_work_time                   0.166938\n 4) insurance                      0.146562\n 5) job_categories                 0.138232\n 6) benefits                       0.123964\n"
     ]
    }
   ],
   "source": [
    "# 重新训练生成模型，如果评分较高说明数据仍有规律可寻，我们距离真实模型正在靠近？\n",
    "df_combine_modal = get_modal(df_combine)"
   ]
  },
  {
   "cell_type": "code",
   "execution_count": 117,
   "metadata": {},
   "outputs": [
    {
     "output_type": "execute_result",
     "data": {
      "text/plain": [
       "array([2, 2, 2, ..., 2, 2, 2])"
      ]
     },
     "metadata": {},
     "execution_count": 117
    }
   ],
   "source": [
    "# 这些是被认为不能上岗，未进行推荐的数据，现在的模型下有可能已经推荐上岗了\n",
    "df_combine_modal.predict(df_busi_yes[columns].values)"
   ]
  }
 ],
 "metadata": {
  "kernelspec": {
   "display_name": "Python 3",
   "language": "python",
   "name": "python3"
  },
  "language_info": {
   "codemirror_mode": {
    "name": "ipython",
    "version": 3
   },
   "file_extension": ".py",
   "mimetype": "text/x-python",
   "name": "python",
   "nbconvert_exporter": "python",
   "pygments_lexer": "ipython3",
   "version": "3.8.3-final"
  }
 },
 "nbformat": 4,
 "nbformat_minor": 4
}